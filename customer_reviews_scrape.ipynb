{
  "cells": [
    {
      "cell_type": "code",
      "execution_count": null,
      "metadata": {
        "colab": {
          "base_uri": "https://localhost:8080/"
        },
        "id": "jRIAbo2ta-OC",
        "outputId": "c576e82e-fa08-47dd-f4e6-f52aa201feb6"
      },
      "outputs": [
        {
          "name": "stdout",
          "output_type": "stream",
          "text": [
            "Collecting selenium\n",
            "  Downloading selenium-4.27.1-py3-none-any.whl.metadata (7.1 kB)\n",
            "Requirement already satisfied: urllib3<3,>=1.26 in /usr/local/lib/python3.10/dist-packages (from urllib3[socks]<3,>=1.26->selenium) (2.2.3)\n",
            "Collecting trio~=0.17 (from selenium)\n",
            "  Downloading trio-0.27.0-py3-none-any.whl.metadata (8.6 kB)\n",
            "Collecting trio-websocket~=0.9 (from selenium)\n",
            "  Downloading trio_websocket-0.11.1-py3-none-any.whl.metadata (4.7 kB)\n",
            "Requirement already satisfied: certifi>=2021.10.8 in /usr/local/lib/python3.10/dist-packages (from selenium) (2024.12.14)\n",
            "Requirement already satisfied: typing_extensions~=4.9 in /usr/local/lib/python3.10/dist-packages (from selenium) (4.12.2)\n",
            "Requirement already satisfied: websocket-client~=1.8 in /usr/local/lib/python3.10/dist-packages (from selenium) (1.8.0)\n",
            "Requirement already satisfied: attrs>=23.2.0 in /usr/local/lib/python3.10/dist-packages (from trio~=0.17->selenium) (24.3.0)\n",
            "Collecting sortedcontainers (from trio~=0.17->selenium)\n",
            "  Downloading sortedcontainers-2.4.0-py2.py3-none-any.whl.metadata (10 kB)\n",
            "Requirement already satisfied: idna in /usr/local/lib/python3.10/dist-packages (from trio~=0.17->selenium) (3.10)\n",
            "Collecting outcome (from trio~=0.17->selenium)\n",
            "  Downloading outcome-1.3.0.post0-py2.py3-none-any.whl.metadata (2.6 kB)\n",
            "Requirement already satisfied: sniffio>=1.3.0 in /usr/local/lib/python3.10/dist-packages (from trio~=0.17->selenium) (1.3.1)\n",
            "Requirement already satisfied: exceptiongroup in /usr/local/lib/python3.10/dist-packages (from trio~=0.17->selenium) (1.2.2)\n",
            "Collecting wsproto>=0.14 (from trio-websocket~=0.9->selenium)\n",
            "  Downloading wsproto-1.2.0-py3-none-any.whl.metadata (5.6 kB)\n",
            "Requirement already satisfied: pysocks!=1.5.7,<2.0,>=1.5.6 in /usr/local/lib/python3.10/dist-packages (from urllib3[socks]<3,>=1.26->selenium) (1.7.1)\n",
            "Requirement already satisfied: h11<1,>=0.9.0 in /usr/local/lib/python3.10/dist-packages (from wsproto>=0.14->trio-websocket~=0.9->selenium) (0.14.0)\n",
            "Downloading selenium-4.27.1-py3-none-any.whl (9.7 MB)\n",
            "\u001b[2K   \u001b[90m━━━━━━━━━━━━━━━━━━━━━━━━━━━━━━━━━━━━━━━━\u001b[0m \u001b[32m9.7/9.7 MB\u001b[0m \u001b[31m58.3 MB/s\u001b[0m eta \u001b[36m0:00:00\u001b[0m\n",
            "\u001b[?25hDownloading trio-0.27.0-py3-none-any.whl (481 kB)\n",
            "\u001b[2K   \u001b[90m━━━━━━━━━━━━━━━━━━━━━━━━━━━━━━━━━━━━━━━━\u001b[0m \u001b[32m481.7/481.7 kB\u001b[0m \u001b[31m28.3 MB/s\u001b[0m eta \u001b[36m0:00:00\u001b[0m\n",
            "\u001b[?25hDownloading trio_websocket-0.11.1-py3-none-any.whl (17 kB)\n",
            "Downloading wsproto-1.2.0-py3-none-any.whl (24 kB)\n",
            "Downloading outcome-1.3.0.post0-py2.py3-none-any.whl (10 kB)\n",
            "Downloading sortedcontainers-2.4.0-py2.py3-none-any.whl (29 kB)\n",
            "Installing collected packages: sortedcontainers, wsproto, outcome, trio, trio-websocket, selenium\n",
            "Successfully installed outcome-1.3.0.post0 selenium-4.27.1 sortedcontainers-2.4.0 trio-0.27.0 trio-websocket-0.11.1 wsproto-1.2.0\n"
          ]
        }
      ],
      "source": [
        "pip install selenium"
      ]
    },
    {
      "cell_type": "code",
      "execution_count": null,
      "metadata": {
        "id": "HC-vqdg2zJPP"
      },
      "outputs": [],
      "source": [
        "pip install -q google-colab-selenium"
      ]
    },
    {
      "cell_type": "code",
      "execution_count": null,
      "metadata": {
        "id": "0Ax8MJ2qa2FT"
      },
      "outputs": [],
      "source": [
        "import pandas as pd\n",
        "import numpy as np\n",
        "import os\n",
        "from ipywidgets import IntSlider\n",
        "import plotly.express as px\n",
        "from datetime import date\n",
        "import requests\n",
        "import json\n",
        "from pandas import json_normalize\n",
        "pd.set_option('display.max_columns', None)\n",
        "\n",
        "from selenium import webdriver\n",
        "from selenium.webdriver.common.by import By\n",
        "from selenium.webdriver.chrome.service import Service\n",
        "from selenium.webdriver.common.action_chains import ActionChains\n",
        "import time\n",
        "from selenium.webdriver.support.ui import WebDriverWait\n",
        "from selenium.webdriver.support import expected_conditions as EC\n",
        "from selenium import webdriver\n",
        "from selenium.webdriver.chrome.options import Options\n",
        "from google.colab import files\n"
      ]
    },
    {
      "cell_type": "code",
      "execution_count": null,
      "metadata": {
        "colab": {
          "base_uri": "https://localhost:8080/",
          "height": 78
        },
        "id": "u8wHlS_YjpVj",
        "outputId": "fcdd15b8-fe04-475f-a5b0-d3fa43db7dc5"
      },
      "outputs": [
        {
          "data": {
            "text/html": [
              "\n",
              "            <div class=\"spinner-container\">\n",
              "                <div class=\"spinner\" id=\"3c284959-6539-4cc8-97db-a142e2cce14f-circle\"></div>\n",
              "                <div class=\"spinner-text\" id=\"3c284959-6539-4cc8-97db-a142e2cce14f-text\">Updating and upgrading APT</div>\n",
              "            </div>\n",
              "            <style>\n",
              "                @keyframes spin {\n",
              "                    from { transform: rotate(0deg); }\n",
              "                    to { transform: rotate(360deg); }\n",
              "                }\n",
              "\n",
              "                .spinner-container {\n",
              "                    display: flex;\n",
              "                    align-items: center;\n",
              "                    margin-bottom: 3px;\n",
              "                }\n",
              "\n",
              "                .spinner {\n",
              "                    border: 3px solid rgba(0, 0, 0, 0.1);\n",
              "                    border-left-color: lightblue;\n",
              "                    border-radius: 50%;\n",
              "                    width: 12px;\n",
              "                    height: 12px;\n",
              "                    animation: spin 1s linear infinite;\n",
              "                }\n",
              "\n",
              "                .spinner-text {\n",
              "                    padding-left: 6px;\n",
              "                }\n",
              "            </style>\n",
              "        "
            ],
            "text/plain": [
              "<IPython.core.display.HTML object>"
            ]
          },
          "metadata": {},
          "output_type": "display_data"
        },
        {
          "data": {
            "application/javascript": [
              "\n",
              "            const element = document.getElementById(\"3c284959-6539-4cc8-97db-a142e2cce14f-circle\");\n",
              "            element.style.border = \"3px solid limegreen\";\n",
              "            element.style.animation = \"none\";\n",
              "\n",
              "            const text = document.getElementById(\"3c284959-6539-4cc8-97db-a142e2cce14f-text\");\n",
              "            text.innerText = \"Updated and upgraded APT\";\n",
              "        "
            ],
            "text/plain": [
              "<IPython.core.display.Javascript object>"
            ]
          },
          "metadata": {},
          "output_type": "display_data"
        },
        {
          "data": {
            "text/html": [
              "\n",
              "            <div class=\"spinner-container\">\n",
              "                <div class=\"spinner\" id=\"b0d7777f-69b0-4bd7-869c-adb8b7ec1ef1-circle\"></div>\n",
              "                <div class=\"spinner-text\" id=\"b0d7777f-69b0-4bd7-869c-adb8b7ec1ef1-text\">Downloading Google Chrome</div>\n",
              "            </div>\n",
              "            <style>\n",
              "                @keyframes spin {\n",
              "                    from { transform: rotate(0deg); }\n",
              "                    to { transform: rotate(360deg); }\n",
              "                }\n",
              "\n",
              "                .spinner-container {\n",
              "                    display: flex;\n",
              "                    align-items: center;\n",
              "                    margin-bottom: 3px;\n",
              "                }\n",
              "\n",
              "                .spinner {\n",
              "                    border: 3px solid rgba(0, 0, 0, 0.1);\n",
              "                    border-left-color: lightblue;\n",
              "                    border-radius: 50%;\n",
              "                    width: 12px;\n",
              "                    height: 12px;\n",
              "                    animation: spin 1s linear infinite;\n",
              "                }\n",
              "\n",
              "                .spinner-text {\n",
              "                    padding-left: 6px;\n",
              "                }\n",
              "            </style>\n",
              "        "
            ],
            "text/plain": [
              "<IPython.core.display.HTML object>"
            ]
          },
          "metadata": {},
          "output_type": "display_data"
        },
        {
          "data": {
            "application/javascript": [
              "\n",
              "            const element = document.getElementById(\"b0d7777f-69b0-4bd7-869c-adb8b7ec1ef1-circle\");\n",
              "            element.style.border = \"3px solid limegreen\";\n",
              "            element.style.animation = \"none\";\n",
              "\n",
              "            const text = document.getElementById(\"b0d7777f-69b0-4bd7-869c-adb8b7ec1ef1-text\");\n",
              "            text.innerText = \"Downloaded Google Chrome\";\n",
              "        "
            ],
            "text/plain": [
              "<IPython.core.display.Javascript object>"
            ]
          },
          "metadata": {},
          "output_type": "display_data"
        },
        {
          "data": {
            "text/html": [
              "\n",
              "            <div class=\"spinner-container\">\n",
              "                <div class=\"spinner\" id=\"b7e78257-dbc6-4abd-9c42-91cd7f0c5ffc-circle\"></div>\n",
              "                <div class=\"spinner-text\" id=\"b7e78257-dbc6-4abd-9c42-91cd7f0c5ffc-text\">Initializing Chromedriver</div>\n",
              "            </div>\n",
              "            <style>\n",
              "                @keyframes spin {\n",
              "                    from { transform: rotate(0deg); }\n",
              "                    to { transform: rotate(360deg); }\n",
              "                }\n",
              "\n",
              "                .spinner-container {\n",
              "                    display: flex;\n",
              "                    align-items: center;\n",
              "                    margin-bottom: 3px;\n",
              "                }\n",
              "\n",
              "                .spinner {\n",
              "                    border: 3px solid rgba(0, 0, 0, 0.1);\n",
              "                    border-left-color: lightblue;\n",
              "                    border-radius: 50%;\n",
              "                    width: 12px;\n",
              "                    height: 12px;\n",
              "                    animation: spin 1s linear infinite;\n",
              "                }\n",
              "\n",
              "                .spinner-text {\n",
              "                    padding-left: 6px;\n",
              "                }\n",
              "            </style>\n",
              "        "
            ],
            "text/plain": [
              "<IPython.core.display.HTML object>"
            ]
          },
          "metadata": {},
          "output_type": "display_data"
        },
        {
          "data": {
            "application/javascript": [
              "\n",
              "            const element = document.getElementById(\"b7e78257-dbc6-4abd-9c42-91cd7f0c5ffc-circle\");\n",
              "            element.style.border = \"3px solid limegreen\";\n",
              "            element.style.animation = \"none\";\n",
              "\n",
              "            const text = document.getElementById(\"b7e78257-dbc6-4abd-9c42-91cd7f0c5ffc-text\");\n",
              "            text.innerText = \"Initialized Chromedriver\";\n",
              "        "
            ],
            "text/plain": [
              "<IPython.core.display.Javascript object>"
            ]
          },
          "metadata": {},
          "output_type": "display_data"
        }
      ],
      "source": [
        "import google_colab_selenium as gs\n",
        "driver = gs.Chrome()"
      ]
    },
    {
      "cell_type": "code",
      "execution_count": null,
      "metadata": {
        "id": "pFCLChUSL876"
      },
      "outputs": [],
      "source": [
        "###enter your urls here\n",
        "review_urls = \"\"\"\n",
        "\n",
        "\n",
        "\"\"\""
      ]
    },
    {
      "cell_type": "code",
      "execution_count": null,
      "metadata": {
        "colab": {
          "base_uri": "https://localhost:8080/"
        },
        "id": "GcVGDUtTzuVL",
        "outputId": "930f13f2-14c8-4df2-a94e-97beb372a3a8"
      },
      "outputs": [
        {
          "data": {
            "text/plain": [
              "['https://www.trendyol.com/dermoskin/be-bright-arbutin-kompleks-krem-33-ml-p-4363619?boutiqueId=61&merchantId=694902',\n",
              " 'https://www.trendyol.com/dermoskin/be-bright-pigmentyl-spf-50-gunes-koruyucu-krem-75-ml-2-li-paket-p-7115213?boutiqueId=61&merchantId=838714']"
            ]
          },
          "execution_count": 6,
          "metadata": {},
          "output_type": "execute_result"
        }
      ],
      "source": [
        "url_list = [a for a in review_urls.split(\"\\n\") if len(a) > 20]\n",
        "url_list"
      ]
    },
    {
      "cell_type": "code",
      "execution_count": null,
      "metadata": {
        "id": "4dSEud-3ncGa"
      },
      "outputs": [],
      "source": [
        "driver.maximize_window()"
      ]
    },
    {
      "cell_type": "code",
      "execution_count": null,
      "metadata": {
        "id": "F-Id6eoc3H85"
      },
      "outputs": [],
      "source": [
        "driver.get(url_list[0])"
      ]
    },
    {
      "cell_type": "code",
      "execution_count": null,
      "metadata": {
        "colab": {
          "base_uri": "https://localhost:8080/"
        },
        "id": "KF4FZl-qa2FV",
        "outputId": "ea59244d-61b7-4c79-9760-ff8f3a840358"
      },
      "outputs": [
        {
          "name": "stdout",
          "output_type": "stream",
          "text": [
            "cookies accepted\n"
          ]
        }
      ],
      "source": [
        "# accepting cookies\n",
        "try:\n",
        "    WebDriverWait(driver, 10).until(EC.element_to_be_clickable((By.ID,'onetrust-accept-btn-handler'))).click()\n",
        "    print(\"cookies accepted\")\n",
        "except:\n",
        "    print(\"cookies cannot accepted\")"
      ]
    },
    {
      "cell_type": "code",
      "execution_count": null,
      "metadata": {
        "colab": {
          "base_uri": "https://localhost:8080/"
        },
        "id": "9Vq3pxTTa2FW",
        "outputId": "7fb3efc2-992d-4a92-97e2-a5764d4fb704"
      },
      "outputs": [
        {
          "name": "stdout",
          "output_type": "stream",
          "text": [
            "Butona başarıyla tıklandı.\n"
          ]
        }
      ],
      "source": [
        "def go_revs():\n",
        "  try:\n",
        "      navigate_button = WebDriverWait(driver, 10).until(\n",
        "          EC.element_to_be_clickable((By.CLASS_NAME, 'navigate-all-reviews-btn'))\n",
        "      )\n",
        "      navigate_button.click()\n",
        "      print(\"Butona başarıyla tıklandı.\")\n",
        "  except:\n",
        "      print(\"Butona tıklama sırasında bir hata oluştu:\", )\n",
        "\n",
        "go_revs()"
      ]
    },
    {
      "cell_type": "code",
      "execution_count": null,
      "metadata": {
        "id": "mXZVEcR-nJkJ"
      },
      "outputs": [],
      "source": [
        "# clicking somewhere blank\n",
        "from selenium.webdriver.common.action_chains import ActionChains\n",
        "actions = ActionChains(driver)\n",
        "actions.move_by_offset(10, 10).click().perform()\n"
      ]
    },
    {
      "cell_type": "code",
      "execution_count": null,
      "metadata": {
        "id": "ijrqQWxezWFi"
      },
      "outputs": [],
      "source": [
        "def select_new_to_old():\n",
        "\n",
        "  dropdown_button = driver.find_element(By.CLASS_NAME, \"selected-container\")\n",
        "  dropdown_button.click()\n",
        "\n",
        "  yeniden_eskiye_option = driver.find_element(By.XPATH, \"//li[text()='Yeniden Eskiye']\")\n",
        "  yeniden_eskiye_option.click()\n",
        "\n",
        "  time.sleep(2)\n",
        "select_new_to_old()"
      ]
    },
    {
      "cell_type": "code",
      "execution_count": null,
      "metadata": {
        "id": "qkdsv4M19eCa"
      },
      "outputs": [],
      "source": [
        "categories = driver.find_elements(By.XPATH, \"//div[@data-testid='sliderList']//a[contains(@class, 'ps-tags__tag')]\")"
      ]
    },
    {
      "cell_type": "code",
      "execution_count": null,
      "metadata": {
        "id": "KSvg3qcia2FW"
      },
      "outputs": [],
      "source": [
        "def scroll(scroll_count):\n",
        "  for i in range(scroll_count):\n",
        "      total_height = driver.execute_script(\"return document.body.scrollHeight\")\n",
        "      scroll_to =str(int(round( total_height * 0.75)))\n",
        "      driver.execute_script(f\"window.scrollTo(0, {scroll_to});\")\n",
        "      time.sleep(2)\n",
        "\n",
        "def scrape(url):\n",
        "  global dd_list\n",
        "  driver.get(url)\n",
        "  print(\"url got\")\n",
        "  title = driver.title\n",
        "  print(title)\n",
        "  go_revs()\n",
        "  print(\"go reviews\")\n",
        "  select_new_to_old()\n",
        "  print(\"select new to old\")\n",
        "  categories = driver.find_elements(By.XPATH, \"//div[@data-testid='sliderList']//a[contains(@class, 'ps-tags__tag')]\")\n",
        "  print(\"caterories got\")\n",
        "\n",
        "  category_dic = {}\n",
        "  dd_list = []\n",
        "  for category_idx in [a for a in range(len(categories)) if a != 1]:\n",
        "          categories = driver.find_elements(By.XPATH, \"//div[@data-testid='sliderList']//a[contains(@class, 'ps-tags__tag')]\")\n",
        "          category = categories[category_idx]\n",
        "          category.click()\n",
        "          print(f\"cat {category} clicked\")\n",
        "\n",
        "          full_text = category.text.strip()\n",
        "          category_name = category.find_element(By.CLASS_NAME, \"ps-tags__tag--bold\").text.strip()\n",
        "          print(category_name)\n",
        "\n",
        "          cat_review_count = full_text.replace(category_name, \"\").strip(\"()\")\n",
        "\n",
        "          cat_review_count = cat_review_count.replace(\"\\n(\",\"\")\n",
        "\n",
        "          time.sleep(2)\n",
        "\n",
        "          stars = driver.find_elements(By.XPATH, \"//div[contains(@class, 'ps-stars__content')]\")\n",
        "          print(\"stars found\")\n",
        "          star_dic = {}\n",
        "          cc_list = []\n",
        "          for star in stars:\n",
        "              full_stars = star.find_elements(By.CSS_SELECTOR, \".star-w .full[style='width: 100%; max-width: 100%;']\")\n",
        "              num_full_stars = len(full_stars)\n",
        "              rating_count = star.find_element(By.CLASS_NAME, 'ps-stars__count').text.strip(\"()\")\n",
        "              print(\"inside stars\")\n",
        "              star.click()\n",
        "              time.sleep(2)\n",
        "              if int(rating_count)>250:\n",
        "                  scroll(5)\n",
        "              elif int(rating_count) <= 250 and int(rating_count) > 150:\n",
        "                  scroll(4)\n",
        "              elif int(rating_count) <= 150 and int(rating_count) > 70:\n",
        "                  scroll(3)\n",
        "              elif int(rating_count) <= 70 and int(rating_count) > 30:\n",
        "                  scroll(1)\n",
        "\n",
        "              comment_dic = {}\n",
        "              comment_list = []\n",
        "              commenter_list = []\n",
        "              comment_date_list = []\n",
        "              seller_name_list = []\n",
        "\n",
        "              comments = driver.find_elements(By.CLASS_NAME, \"comment\")\n",
        "              print(\"inside comment\")\n",
        "              for comment in comments:\n",
        "                  comment_text = comment.find_element(By.CLASS_NAME, \"comment-text\").text.strip()\n",
        "                  comment_info_items = comment.find_elements(By.CLASS_NAME, \"comment-info-item\")\n",
        "                  commenter = comment_info_items[0].text.strip() if len(comment_info_items) > 0 else \"Bilgi yok\"\n",
        "                  comment_date = comment_info_items[1].text.strip() if len(comment_info_items) > 1 else \"Tarih bilgisi yok\"\n",
        "\n",
        "                  seller_info = comment.find_element(By.CLASS_NAME, \"seller-info\")\n",
        "                  seller_name = seller_info.text.strip()\n",
        "                  comment_list.append(comment_text)\n",
        "                  commenter_list.append(commenter)\n",
        "                  comment_date_list.append(comment_date)\n",
        "                  seller_name_list.append(seller_name)\n",
        "\n",
        "\n",
        "              comment_dic[\"comment_text\"] = comment_list\n",
        "              comment_dic[\"commenter\"] = commenter_list\n",
        "              comment_dic[\"comment_date\"] = comment_date_list\n",
        "              comment_dic[\"seller_name\"] = seller_name_list\n",
        "              comm = []\n",
        "              for i in comment_dic.keys():\n",
        "                  comm.append(pd.Series(comment_dic[i], name=i))\n",
        "              comment_df = pd.concat(comm,axis=1)\n",
        "              star.click()\n",
        "              time.sleep(3)\n",
        "              comment_df[\"rating\"] = num_full_stars\n",
        "              comment_df[\"rating_count\"] = rating_count\n",
        "              cc_list.append(comment_df)\n",
        "\n",
        "          print(\"stars finished\")\n",
        "          ww = pd.concat(cc_list)\n",
        "          ww[\"category_name\"] = category_name\n",
        "          ww[\"cat_review_count\"] = cat_review_count\n",
        "\n",
        "          dd_list.append(ww)\n",
        "          time.sleep(4)\n",
        "\n",
        "  fin_df = pd.concat(dd_list)\n",
        "  fin_df[\"title\"] = title\n",
        "  fin_df[\"url\"] = url\n",
        "  return fin_df, title"
      ]
    },
    {
      "cell_type": "code",
      "execution_count": null,
      "metadata": {
        "colab": {
          "background_save": true
        },
        "id": "kCRd3luFa2FW"
      },
      "outputs": [],
      "source": [
        "for url in url_list:\n",
        "  df, title = scrape(url)\n",
        "  df.to_excel(f\"{title}_comments.xlsx\")\n",
        "  files.download(f\"{title}_comments.xlsx\")\n",
        "\n",
        "\n"
      ]
    },
    {
      "cell_type": "code",
      "execution_count": null,
      "metadata": {
        "colab": {
          "base_uri": "https://localhost:8080/"
        },
        "id": "W3tvsqWxa2FW",
        "outputId": "01bfca33-9926-4df4-931d-10a9ddf47165"
      },
      "outputs": [
        {
          "name": "stderr",
          "output_type": "stream",
          "text": [
            "WARNING:urllib3.connectionpool:Retrying (Retry(total=2, connect=None, read=None, redirect=None, status=None)) after connection broken by 'NewConnectionError('<urllib3.connection.HTTPConnection object at 0x7ba604c87ee0>: Failed to establish a new connection: [Errno 111] Connection refused')': /session/fd6c318e0ef84cc8eb96fc783ca3bd8c\n",
            "WARNING:urllib3.connectionpool:Retrying (Retry(total=1, connect=None, read=None, redirect=None, status=None)) after connection broken by 'NewConnectionError('<urllib3.connection.HTTPConnection object at 0x7ba6051cf3d0>: Failed to establish a new connection: [Errno 111] Connection refused')': /session/fd6c318e0ef84cc8eb96fc783ca3bd8c\n",
            "WARNING:urllib3.connectionpool:Retrying (Retry(total=0, connect=None, read=None, redirect=None, status=None)) after connection broken by 'NewConnectionError('<urllib3.connection.HTTPConnection object at 0x7ba6051cde70>: Failed to establish a new connection: [Errno 111] Connection refused')': /session/fd6c318e0ef84cc8eb96fc783ca3bd8c\n"
          ]
        }
      ],
      "source": [
        "driver.quit()"
      ]
    },
    {
      "cell_type": "code",
      "execution_count": null,
      "metadata": {
        "id": "0RyrDmY_Dm99"
      },
      "outputs": [],
      "source": []
    }
  ],
  "metadata": {
    "colab": {
      "provenance": []
    },
    "kernelspec": {
      "display_name": "Python 3",
      "language": "python",
      "name": "python3"
    },
    "language_info": {
      "codemirror_mode": {
        "name": "ipython",
        "version": 3
      },
      "file_extension": ".py",
      "mimetype": "text/x-python",
      "name": "python",
      "nbconvert_exporter": "python",
      "pygments_lexer": "ipython3",
      "version": "3.11.4"
    }
  },
  "nbformat": 4,
  "nbformat_minor": 0
}