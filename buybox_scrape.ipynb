{
  "cells": [
    {
      "cell_type": "code",
      "source": [
        "pip install selenium"
      ],
      "metadata": {
        "colab": {
          "base_uri": "https://localhost:8080/"
        },
        "id": "h3-di_hpGX4w",
        "outputId": "844153f3-7550-4211-9552-0408cd610838"
      },
      "execution_count": null,
      "outputs": [
        {
          "output_type": "stream",
          "name": "stdout",
          "text": [
            "Collecting selenium\n",
            "  Downloading selenium-4.27.1-py3-none-any.whl.metadata (7.1 kB)\n",
            "Requirement already satisfied: urllib3<3,>=1.26 in /usr/local/lib/python3.10/dist-packages (from urllib3[socks]<3,>=1.26->selenium) (2.2.3)\n",
            "Collecting trio~=0.17 (from selenium)\n",
            "  Downloading trio-0.27.0-py3-none-any.whl.metadata (8.6 kB)\n",
            "Collecting trio-websocket~=0.9 (from selenium)\n",
            "  Downloading trio_websocket-0.11.1-py3-none-any.whl.metadata (4.7 kB)\n",
            "Requirement already satisfied: certifi>=2021.10.8 in /usr/local/lib/python3.10/dist-packages (from selenium) (2024.12.14)\n",
            "Requirement already satisfied: typing_extensions~=4.9 in /usr/local/lib/python3.10/dist-packages (from selenium) (4.12.2)\n",
            "Requirement already satisfied: websocket-client~=1.8 in /usr/local/lib/python3.10/dist-packages (from selenium) (1.8.0)\n",
            "Requirement already satisfied: attrs>=23.2.0 in /usr/local/lib/python3.10/dist-packages (from trio~=0.17->selenium) (24.3.0)\n",
            "Collecting sortedcontainers (from trio~=0.17->selenium)\n",
            "  Downloading sortedcontainers-2.4.0-py2.py3-none-any.whl.metadata (10 kB)\n",
            "Requirement already satisfied: idna in /usr/local/lib/python3.10/dist-packages (from trio~=0.17->selenium) (3.10)\n",
            "Collecting outcome (from trio~=0.17->selenium)\n",
            "  Downloading outcome-1.3.0.post0-py2.py3-none-any.whl.metadata (2.6 kB)\n",
            "Requirement already satisfied: sniffio>=1.3.0 in /usr/local/lib/python3.10/dist-packages (from trio~=0.17->selenium) (1.3.1)\n",
            "Requirement already satisfied: exceptiongroup in /usr/local/lib/python3.10/dist-packages (from trio~=0.17->selenium) (1.2.2)\n",
            "Collecting wsproto>=0.14 (from trio-websocket~=0.9->selenium)\n",
            "  Downloading wsproto-1.2.0-py3-none-any.whl.metadata (5.6 kB)\n",
            "Requirement already satisfied: pysocks!=1.5.7,<2.0,>=1.5.6 in /usr/local/lib/python3.10/dist-packages (from urllib3[socks]<3,>=1.26->selenium) (1.7.1)\n",
            "Requirement already satisfied: h11<1,>=0.9.0 in /usr/local/lib/python3.10/dist-packages (from wsproto>=0.14->trio-websocket~=0.9->selenium) (0.14.0)\n",
            "Downloading selenium-4.27.1-py3-none-any.whl (9.7 MB)\n",
            "\u001b[2K   \u001b[90m━━━━━━━━━━━━━━━━━━━━━━━━━━━━━━━━━━━━━━━━\u001b[0m \u001b[32m9.7/9.7 MB\u001b[0m \u001b[31m30.9 MB/s\u001b[0m eta \u001b[36m0:00:00\u001b[0m\n",
            "\u001b[?25hDownloading trio-0.27.0-py3-none-any.whl (481 kB)\n",
            "\u001b[2K   \u001b[90m━━━━━━━━━━━━━━━━━━━━━━━━━━━━━━━━━━━━━━━━\u001b[0m \u001b[32m481.7/481.7 kB\u001b[0m \u001b[31m22.6 MB/s\u001b[0m eta \u001b[36m0:00:00\u001b[0m\n",
            "\u001b[?25hDownloading trio_websocket-0.11.1-py3-none-any.whl (17 kB)\n",
            "Downloading wsproto-1.2.0-py3-none-any.whl (24 kB)\n",
            "Downloading outcome-1.3.0.post0-py2.py3-none-any.whl (10 kB)\n",
            "Downloading sortedcontainers-2.4.0-py2.py3-none-any.whl (29 kB)\n",
            "Installing collected packages: sortedcontainers, wsproto, outcome, trio, trio-websocket, selenium\n",
            "Successfully installed outcome-1.3.0.post0 selenium-4.27.1 sortedcontainers-2.4.0 trio-0.27.0 trio-websocket-0.11.1 wsproto-1.2.0\n"
          ]
        }
      ]
    },
    {
      "cell_type": "code",
      "source": [
        "pip install -q google-colab-selenium"
      ],
      "metadata": {
        "id": "iaOrkDuMGZ36"
      },
      "execution_count": null,
      "outputs": []
    },
    {
      "cell_type": "code",
      "execution_count": null,
      "metadata": {
        "id": "PQyhiC03GU20"
      },
      "outputs": [],
      "source": [
        "import pandas as pd\n",
        "import numpy as np\n",
        "import os\n",
        "from datetime import date\n",
        "import requests\n",
        "import json\n",
        "from pandas import json_normalize\n",
        "\n",
        "import pandas as pd\n",
        "\n",
        "pd.set_option('display.max_columns', None)\n",
        "\n",
        "\n",
        "from selenium import webdriver\n",
        "from selenium.webdriver.common.by import By\n",
        "from selenium.webdriver.chrome.service import Service\n",
        "from selenium.webdriver.common.action_chains import ActionChains\n",
        "import time\n",
        "from selenium.webdriver.support.ui import WebDriverWait\n",
        "from google.colab import files\n",
        "from selenium.webdriver.support import expected_conditions as EC\n"
      ]
    },
    {
      "cell_type": "code",
      "source": [
        "import google_colab_selenium as gs\n",
        "driver = gs.Chrome()"
      ],
      "metadata": {
        "colab": {
          "base_uri": "https://localhost:8080/",
          "height": 78
        },
        "id": "f9UxLV6TGdT1",
        "outputId": "078b36d4-7342-4f45-b2cf-f57cdeaa1e2b"
      },
      "execution_count": null,
      "outputs": [
        {
          "output_type": "display_data",
          "data": {
            "text/plain": [
              "<IPython.core.display.HTML object>"
            ],
            "text/html": [
              "\n",
              "            <div class=\"spinner-container\">\n",
              "                <div class=\"spinner\" id=\"32c993bf-66c3-4c92-8fce-70789bc311b8-circle\"></div>\n",
              "                <div class=\"spinner-text\" id=\"32c993bf-66c3-4c92-8fce-70789bc311b8-text\">Updating and upgrading APT</div>\n",
              "            </div>\n",
              "            <style>\n",
              "                @keyframes spin {\n",
              "                    from { transform: rotate(0deg); }\n",
              "                    to { transform: rotate(360deg); }\n",
              "                }\n",
              "\n",
              "                .spinner-container {\n",
              "                    display: flex;\n",
              "                    align-items: center;\n",
              "                    margin-bottom: 3px;\n",
              "                }\n",
              "\n",
              "                .spinner {\n",
              "                    border: 3px solid rgba(0, 0, 0, 0.1);\n",
              "                    border-left-color: lightblue;\n",
              "                    border-radius: 50%;\n",
              "                    width: 12px;\n",
              "                    height: 12px;\n",
              "                    animation: spin 1s linear infinite;\n",
              "                }\n",
              "\n",
              "                .spinner-text {\n",
              "                    padding-left: 6px;\n",
              "                }\n",
              "            </style>\n",
              "        "
            ]
          },
          "metadata": {}
        },
        {
          "output_type": "display_data",
          "data": {
            "text/plain": [
              "<IPython.core.display.Javascript object>"
            ],
            "application/javascript": [
              "\n",
              "            const element = document.getElementById(\"32c993bf-66c3-4c92-8fce-70789bc311b8-circle\");\n",
              "            element.style.border = \"3px solid limegreen\";\n",
              "            element.style.animation = \"none\";\n",
              "\n",
              "            const text = document.getElementById(\"32c993bf-66c3-4c92-8fce-70789bc311b8-text\");\n",
              "            text.innerText = \"Updated and upgraded APT\";\n",
              "        "
            ]
          },
          "metadata": {}
        },
        {
          "output_type": "display_data",
          "data": {
            "text/plain": [
              "<IPython.core.display.HTML object>"
            ],
            "text/html": [
              "\n",
              "            <div class=\"spinner-container\">\n",
              "                <div class=\"spinner\" id=\"adc78ada-0735-4e37-b1a8-cf623b0dffcc-circle\"></div>\n",
              "                <div class=\"spinner-text\" id=\"adc78ada-0735-4e37-b1a8-cf623b0dffcc-text\">Downloading Google Chrome</div>\n",
              "            </div>\n",
              "            <style>\n",
              "                @keyframes spin {\n",
              "                    from { transform: rotate(0deg); }\n",
              "                    to { transform: rotate(360deg); }\n",
              "                }\n",
              "\n",
              "                .spinner-container {\n",
              "                    display: flex;\n",
              "                    align-items: center;\n",
              "                    margin-bottom: 3px;\n",
              "                }\n",
              "\n",
              "                .spinner {\n",
              "                    border: 3px solid rgba(0, 0, 0, 0.1);\n",
              "                    border-left-color: lightblue;\n",
              "                    border-radius: 50%;\n",
              "                    width: 12px;\n",
              "                    height: 12px;\n",
              "                    animation: spin 1s linear infinite;\n",
              "                }\n",
              "\n",
              "                .spinner-text {\n",
              "                    padding-left: 6px;\n",
              "                }\n",
              "            </style>\n",
              "        "
            ]
          },
          "metadata": {}
        },
        {
          "output_type": "display_data",
          "data": {
            "text/plain": [
              "<IPython.core.display.Javascript object>"
            ],
            "application/javascript": [
              "\n",
              "            const element = document.getElementById(\"adc78ada-0735-4e37-b1a8-cf623b0dffcc-circle\");\n",
              "            element.style.border = \"3px solid limegreen\";\n",
              "            element.style.animation = \"none\";\n",
              "\n",
              "            const text = document.getElementById(\"adc78ada-0735-4e37-b1a8-cf623b0dffcc-text\");\n",
              "            text.innerText = \"Downloaded Google Chrome\";\n",
              "        "
            ]
          },
          "metadata": {}
        },
        {
          "output_type": "display_data",
          "data": {
            "text/plain": [
              "<IPython.core.display.HTML object>"
            ],
            "text/html": [
              "\n",
              "            <div class=\"spinner-container\">\n",
              "                <div class=\"spinner\" id=\"bc08253b-3374-4278-8d2a-582918faa0fa-circle\"></div>\n",
              "                <div class=\"spinner-text\" id=\"bc08253b-3374-4278-8d2a-582918faa0fa-text\">Initializing Chromedriver</div>\n",
              "            </div>\n",
              "            <style>\n",
              "                @keyframes spin {\n",
              "                    from { transform: rotate(0deg); }\n",
              "                    to { transform: rotate(360deg); }\n",
              "                }\n",
              "\n",
              "                .spinner-container {\n",
              "                    display: flex;\n",
              "                    align-items: center;\n",
              "                    margin-bottom: 3px;\n",
              "                }\n",
              "\n",
              "                .spinner {\n",
              "                    border: 3px solid rgba(0, 0, 0, 0.1);\n",
              "                    border-left-color: lightblue;\n",
              "                    border-radius: 50%;\n",
              "                    width: 12px;\n",
              "                    height: 12px;\n",
              "                    animation: spin 1s linear infinite;\n",
              "                }\n",
              "\n",
              "                .spinner-text {\n",
              "                    padding-left: 6px;\n",
              "                }\n",
              "            </style>\n",
              "        "
            ]
          },
          "metadata": {}
        },
        {
          "output_type": "display_data",
          "data": {
            "text/plain": [
              "<IPython.core.display.Javascript object>"
            ],
            "application/javascript": [
              "\n",
              "            const element = document.getElementById(\"bc08253b-3374-4278-8d2a-582918faa0fa-circle\");\n",
              "            element.style.border = \"3px solid limegreen\";\n",
              "            element.style.animation = \"none\";\n",
              "\n",
              "            const text = document.getElementById(\"bc08253b-3374-4278-8d2a-582918faa0fa-text\");\n",
              "            text.innerText = \"Initialized Chromedriver\";\n",
              "        "
            ]
          },
          "metadata": {}
        }
      ]
    },
    {
      "cell_type": "code",
      "source": [
        "driver.maximize_window()"
      ],
      "metadata": {
        "id": "cXapJZ83GhO6"
      },
      "execution_count": null,
      "outputs": []
    },
    {
      "cell_type": "code",
      "source": [
        "# Enter urls here\n",
        "urls = \"\"\"\n",
        "\n",
        "\n",
        "\"\"\".split(\"\\n\")\n",
        "\n",
        "urls = [a for a in urls if len(a) > 20]\n",
        "urls"
      ],
      "metadata": {
        "id": "v3SePHVtGojF"
      },
      "execution_count": null,
      "outputs": []
    },
    {
      "cell_type": "code",
      "execution_count": null,
      "metadata": {
        "id": "enxO5PmEGU21"
      },
      "outputs": [],
      "source": [
        "driver.get(urls[0])"
      ]
    },
    {
      "cell_type": "code",
      "execution_count": null,
      "metadata": {
        "colab": {
          "base_uri": "https://localhost:8080/"
        },
        "id": "uWZ1IVCyGU22",
        "outputId": "7f2951e7-9626-40fe-f869-990eea348973"
      },
      "outputs": [
        {
          "output_type": "stream",
          "name": "stdout",
          "text": [
            "cookies accepted\n"
          ]
        }
      ],
      "source": [
        "# burası çerezleri kabul etme\n",
        "try:\n",
        "    WebDriverWait(driver, 10).until(EC.element_to_be_clickable((By.ID,'onetrust-accept-btn-handler'))).click()\n",
        "    print(\"cookies accepted\")\n",
        "except:\n",
        "    print(\"cookies cannot accepted\")"
      ]
    },
    {
      "cell_type": "code",
      "execution_count": null,
      "metadata": {
        "id": "fGLLDSVcGU23"
      },
      "outputs": [],
      "source": [
        "# Clicking somewhere blank\n",
        "from selenium.webdriver.common.action_chains import ActionChains\n",
        "actions = ActionChains(driver)\n",
        "actions.move_by_offset(10, 10).click().perform()\n",
        "time.sleep(2)\n"
      ]
    },
    {
      "cell_type": "code",
      "execution_count": null,
      "metadata": {
        "id": "Ql2ziVewGU23"
      },
      "outputs": [],
      "source": [
        "def get_table(url_):\n",
        "    final_dfs = []\n",
        "    for url in url_:\n",
        "        print(url)\n",
        "        driver.get(url)\n",
        "        title = driver.title\n",
        "        try:\n",
        "            see_more_button = driver.find_element(By.XPATH, '//div[contains(text(), \"DAHA FAZLA SATICI GÖSTER\")]')\n",
        "            see_more_button.click()\n",
        "        except:\n",
        "            print(\"cannot click 'daha fazla satıcı göster button'\")\n",
        "        product_blocks = driver.find_elements(By.CSS_SELECTOR, '.pr-mc-w.gnr-cnt-br')\n",
        "        products_info = []\n",
        "\n",
        "        for block in product_blocks:\n",
        "            product_info = {\n",
        "                'seller_name': '',\n",
        "                'seller_rating': '',\n",
        "                'badges': [],\n",
        "                'delivery_info': '',\n",
        "                'offers': [],\n",
        "                'price': '',\n",
        "                'product_link': ''\n",
        "            }\n",
        "\n",
        "            try:\n",
        "                seller_element = block.find_element(By.CSS_SELECTOR, '.seller-name-text')\n",
        "                product_info['seller_name'] = seller_element.text\n",
        "            except:\n",
        "                product_info['seller_name'] = 'No seller'\n",
        "\n",
        "            try:\n",
        "                rating_element = block.find_element(By.CSS_SELECTOR, '.sl-pn')\n",
        "                product_info['seller_rating'] = rating_element.text.strip('\"')\n",
        "            except:\n",
        "                product_info['seller_rating'] = 'No rating'\n",
        "\n",
        "            try:\n",
        "                badges = block.find_elements(By.CSS_SELECTOR, '.merchant-badge-container img')\n",
        "                product_info['badges'] = [badge.get_attribute('src') for badge in badges]\n",
        "            except:\n",
        "                print(\"rozet errorrr\")\n",
        "                product_info['badges'] = []\n",
        "\n",
        "            try:\n",
        "                delivery_info_elements = block.find_elements(By.CSS_SELECTOR, '.pr-dd strong')\n",
        "                delivery_info_texts = [elem.text for elem in delivery_info_elements]\n",
        "                product_info['delivery_info'] = \" \".join(delivery_info_texts)\n",
        "            except:\n",
        "                product_info['delivery_info'] = 'No delivery info'\n",
        "\n",
        "            try:\n",
        "                offers_elements = block.find_elements(By.CSS_SELECTOR, '.pr-mb-pr')\n",
        "                for offer in offers_elements:\n",
        "                    description = offer.find_element(By.CSS_SELECTOR, '.pr-mb-pr-tx').text\n",
        "                    product_info['offers'].append(description)\n",
        "            except:\n",
        "                product_info['offers'] = []\n",
        "\n",
        "            try:\n",
        "                price_element = block.find_element(By.CSS_SELECTOR, '.prc-dsc')\n",
        "                product_info['price'] = price_element.text\n",
        "            except:\n",
        "                product_info['price'] = 'No price'\n",
        "\n",
        "            try:\n",
        "                link_element = block.find_element(By.CSS_SELECTOR, '.pr-om-1nk-btn')\n",
        "                product_info['product_link'] = link_element.get_attribute('href')\n",
        "            except:\n",
        "                product_info['product_link'] = 'No link'\n",
        "\n",
        "            products_info.append(product_info)\n",
        "\n",
        "        def ff(val):\n",
        "            ss = val.copy()\n",
        "\n",
        "            for i in range(len(val[\"badges\"])):\n",
        "                ss[\"badge_\" +str(i)] = val[\"badges\"][i]\n",
        "\n",
        "            for i in range(len(val[\"offers\"])):\n",
        "                ss[\"offer_\" +str(i)] = val[\"offers\"][i]\n",
        "            return ss\n",
        "\n",
        "        desired = [\"seller_name\",\"seller_rating\",\"delivery_info\",\"delivery_info\",\"badge_0\",\"badge_1\",\"badge_2\",\"offer_0\",\"offer_1\",\"offer_2\",\"price\"]\n",
        "        df_list = []\n",
        "        for vals in products_info:\n",
        "            cols = [i for i in ff(vals).keys() if i in desired]\n",
        "            aa = pd.DataFrame([ff(vals)[i] for i in ff(vals).keys() if i in desired]).T\n",
        "            aa.columns = cols\n",
        "            df_list.append(aa)\n",
        "\n",
        "        df = pd.concat(df_list)\n",
        "        # df[\"url\"] = url_\n",
        "        df[\"title\"] = title\n",
        "        final_dfs.append(df)\n",
        "        time.sleep(2)\n",
        "\n",
        "    return final_dfs\n",
        "\n"
      ]
    },
    {
      "cell_type": "code",
      "execution_count": null,
      "metadata": {
        "id": "tgDGF8zWGU24"
      },
      "outputs": [],
      "source": [
        "ss = get_table(urls)\n",
        "main_df = pd.concat(ss)"
      ]
    },
    {
      "cell_type": "code",
      "execution_count": null,
      "metadata": {
        "id": "WPlLObqfGU24"
      },
      "outputs": [],
      "source": [
        "badge_cols = [i for i in main_df.columns if \"badge\" in i]\n",
        "\n",
        "if len(badge_cols) == 2:\n",
        "    lll = []\n",
        "    for i in main_df[badge_cols].fillna(\"nan\").values:\n",
        "        ll=[]\n",
        "        if \"basarili_satici\" in \" \".join(list(i)):\n",
        "            ll.append(\"basarili satici\")\n",
        "        else:\n",
        "            ll.append(\"\")\n",
        "        if \"hizli-satici\" in \" \".join(list(i)):\n",
        "            ll.append(\"hizli satici\")\n",
        "        else:\n",
        "            ll.append(\"\")\n",
        "        lll.append(ll)\n",
        "    main_df[badge_cols] = lll\n",
        "if len(badge_cols) == 1:\n",
        "    lll = []\n",
        "    for i in main_df[badge_cols].fillna(\"nan\").values:\n",
        "        ll=[]\n",
        "        if \"basarili_satici\" in \" \".join(list(i)):\n",
        "            ll.append(\"basarili satici\")\n",
        "        elif \"hizli-satici\" in \" \".join(list(i)):\n",
        "            ll.append(\"hizli satici\")\n",
        "        else:\n",
        "            ll.append(\"\")\n",
        "        lll.append(ll)\n",
        "    main_df[badge_cols] = lll\n",
        "if len(badge_cols) == 3:\n",
        "    lll = []\n",
        "    for i in main_df[badge_cols].fillna(\"nan\").values:\n",
        "        ll=[]\n",
        "        if \"basarili_satici\" in \" \".join(list(i)):\n",
        "            ll.append(\"basarili satici\")\n",
        "        else:\n",
        "            ll.append(\"\")\n",
        "        if \"hizli-satici\" in \" \".join(list(i)):\n",
        "            ll.append(\"hizli satici\")\n",
        "        else:\n",
        "            ll.append(\"\")\n",
        "        ll.append(i[2].split(\"/\")[-1].split(\".\")[0])\n",
        "        lll.append(ll)\n",
        "    main_df[badge_cols] = lll"
      ]
    },
    {
      "cell_type": "code",
      "execution_count": null,
      "metadata": {
        "id": "zkqE349HGU24"
      },
      "outputs": [],
      "source": [
        "offer_cols = [i for i in main_df.columns if \"offer\" in i]\n",
        "\n",
        "\n",
        "if len(offer_cols) == 3:\n",
        "    lll = []\n",
        "    for i in main_df[offer_cols].fillna(\"nan\").values:\n",
        "        ll=[]\n",
        "        if \"Kurumsal Fatura\" in \" \".join(list(i)):\n",
        "            ll.append(\"Kurumsal Fatura\")\n",
        "        else:\n",
        "            ll.append(\"\")\n",
        "        if \"Kargo Bedava\" in \" \".join(list(i)):\n",
        "            ll.append(\"Kargo Bedava\")\n",
        "        else:\n",
        "            ll.append(\"\")\n",
        "        d = [a for a in list(i) if a not in [\"Kargo Bedava\",\"Kurumsal Fatura\"]]\n",
        "        if d == [\"nan\"]:\n",
        "            ll.append(\"\")\n",
        "        else:\n",
        "            ll.append(d[0])\n",
        "\n",
        "        lll.append(ll)\n",
        "    main_df[offer_cols] = lll\n",
        "if len(offer_cols) == 2:\n",
        "    aa = main_df[offer_cols].fillna(\"nan\")\n",
        "    aa[\"offer_2\"] = \"nan\"\n",
        "    lll = []\n",
        "    for i in aa.values:\n",
        "        ll=[]\n",
        "        if \"Kurumsal Fatura\" in \" \".join(list(i)):\n",
        "            ll.append(\"Kurumsal Fatura\")\n",
        "        else:\n",
        "            ll.append(\"\")\n",
        "        if \"Kargo Bedava\" in \" \".join(list(i)):\n",
        "            ll.append(\"Kargo Bedava\")\n",
        "        else:\n",
        "            ll.append(\"\")\n",
        "        d = [a for a in list(i) if a not in [\"Kargo Bedava\",\"Kurumsal Fatura\"]]\n",
        "        if d == [\"nan\"]:\n",
        "            ll.append(\"\")\n",
        "        else:\n",
        "            ll.append(d[0])\n",
        "\n",
        "        lll.append(ll)\n",
        "    main_df[offer_cols] = lll\n",
        "\n",
        "if len(offer_cols) == 1:\n",
        "    aa = main_df[offer_cols].fillna(\"nan\")\n",
        "    aa[\"offer_2\"] = \"nan\"\n",
        "    aa[\"offer_1\"] = \"nan\"\n",
        "\n",
        "    lll = []\n",
        "    for i in aa.values:\n",
        "        ll=[]\n",
        "        if \"Kurumsal Fatura\" in \" \".join(list(i)):\n",
        "            ll.append(\"Kurumsal Fatura\")\n",
        "        else:\n",
        "            ll.append(\"\")\n",
        "        if \"Kargo Bedava\" in \" \".join(list(i)):\n",
        "            ll.append(\"Kargo Bedava\")\n",
        "        else:\n",
        "            ll.append(\"\")\n",
        "        d = [a for a in list(i) if a not in [\"Kargo Bedava\",\"Kurumsal Fatura\"]]\n",
        "        if d == [\"nan\"]:\n",
        "            ll.append(\"\")\n",
        "        else:\n",
        "            ll.append(d[0])\n",
        "\n",
        "        lll.append(ll)\n",
        "    main_df[offer_cols] = lll"
      ]
    },
    {
      "cell_type": "code",
      "execution_count": null,
      "metadata": {
        "id": "iEXIhwG5GU24"
      },
      "outputs": [],
      "source": [
        "main_df.to_excel(f\"buybox.xlsx\")\n",
        "files.download(f\"buybox.xlsx\")\n",
        "\n"
      ]
    },
    {
      "cell_type": "code",
      "execution_count": null,
      "metadata": {
        "id": "6_aaIIARGU24"
      },
      "outputs": [],
      "source": [
        "driver.quit()"
      ]
    },
    {
      "cell_type": "code",
      "execution_count": null,
      "metadata": {
        "id": "gecK15nSGU24"
      },
      "outputs": [],
      "source": []
    }
  ],
  "metadata": {
    "kernelspec": {
      "display_name": "Python 3",
      "language": "python",
      "name": "python3"
    },
    "language_info": {
      "codemirror_mode": {
        "name": "ipython",
        "version": 3
      },
      "file_extension": ".py",
      "mimetype": "text/x-python",
      "name": "python",
      "nbconvert_exporter": "python",
      "pygments_lexer": "ipython3",
      "version": "3.11.4"
    },
    "colab": {
      "provenance": []
    }
  },
  "nbformat": 4,
  "nbformat_minor": 0
}